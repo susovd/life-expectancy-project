{
 "cells": [
  {
   "cell_type": "code",
   "execution_count": 1,
   "metadata": {},
   "outputs": [],
   "source": [
    "#import dependencies\n",
    "import pandas as pd\n",
    "import numpy as np\n",
    "import matplotlib.pyplot as plt\n",
    "import scipy.stats as st\n",
    "from scipy.stats import linregress"
   ]
  },
  {
   "cell_type": "code",
   "execution_count": 2,
   "metadata": {},
   "outputs": [],
   "source": [
    "#load the data\n",
    "demographics_df = pd.read_csv(\"demographics_data.csv\").reset_index(drop = True)"
   ]
  },
  {
   "cell_type": "code",
   "execution_count": 3,
   "metadata": {},
   "outputs": [
    {
     "data": {
      "text/html": [
       "<div>\n",
       "<style scoped>\n",
       "    .dataframe tbody tr th:only-of-type {\n",
       "        vertical-align: middle;\n",
       "    }\n",
       "\n",
       "    .dataframe tbody tr th {\n",
       "        vertical-align: top;\n",
       "    }\n",
       "\n",
       "    .dataframe thead th {\n",
       "        text-align: right;\n",
       "    }\n",
       "</style>\n",
       "<table border=\"1\" class=\"dataframe\">\n",
       "  <thead>\n",
       "    <tr style=\"text-align: right;\">\n",
       "      <th></th>\n",
       "      <th>Unnamed: 0</th>\n",
       "      <th>Crude_birth_rate</th>\n",
       "      <th>Crude_death_rate</th>\n",
       "      <th>Fertility_rate</th>\n",
       "      <th>DPT_immu</th>\n",
       "      <th>HepB3_immu</th>\n",
       "      <th>Measles_immu</th>\n",
       "      <th>HIV_incidence</th>\n",
       "      <th>TB_incidence</th>\n",
       "      <th>Homicides_per100000</th>\n",
       "      <th>Life_expectancy</th>\n",
       "      <th>Physicians_per1000_people</th>\n",
       "      <th>Population_density</th>\n",
       "      <th>Overweight_prevalence</th>\n",
       "    </tr>\n",
       "  </thead>\n",
       "  <tbody>\n",
       "    <tr>\n",
       "      <th>0</th>\n",
       "      <td>0</td>\n",
       "      <td>17.995227</td>\n",
       "      <td>7.195875</td>\n",
       "      <td>2.335178</td>\n",
       "      <td>87.045374</td>\n",
       "      <td>86.436571</td>\n",
       "      <td>87.988729</td>\n",
       "      <td>0.61822</td>\n",
       "      <td>148.000000</td>\n",
       "      <td>6.405792</td>\n",
       "      <td>71.854614</td>\n",
       "      <td>1.933048</td>\n",
       "      <td>71.864149</td>\n",
       "      <td>6.200000</td>\n",
       "    </tr>\n",
       "    <tr>\n",
       "      <th>1</th>\n",
       "      <td>1</td>\n",
       "      <td>9.828199</td>\n",
       "      <td>9.553920</td>\n",
       "      <td>1.551680</td>\n",
       "      <td>93.800214</td>\n",
       "      <td>89.719856</td>\n",
       "      <td>93.554442</td>\n",
       "      <td>0.61822</td>\n",
       "      <td>102.948086</td>\n",
       "      <td>6.405792</td>\n",
       "      <td>80.659892</td>\n",
       "      <td>1.933048</td>\n",
       "      <td>35.249830</td>\n",
       "      <td>5.077778</td>\n",
       "    </tr>\n",
       "    <tr>\n",
       "      <th>2</th>\n",
       "      <td>2</td>\n",
       "      <td>18.174855</td>\n",
       "      <td>7.528826</td>\n",
       "      <td>2.414975</td>\n",
       "      <td>85.603028</td>\n",
       "      <td>84.737825</td>\n",
       "      <td>85.634452</td>\n",
       "      <td>0.23000</td>\n",
       "      <td>132.000000</td>\n",
       "      <td>5.779750</td>\n",
       "      <td>72.563274</td>\n",
       "      <td>1.933048</td>\n",
       "      <td>59.617881</td>\n",
       "      <td>5.600000</td>\n",
       "    </tr>\n",
       "    <tr>\n",
       "      <th>3</th>\n",
       "      <td>3</td>\n",
       "      <td>32.487000</td>\n",
       "      <td>6.423000</td>\n",
       "      <td>4.473000</td>\n",
       "      <td>66.000000</td>\n",
       "      <td>66.000000</td>\n",
       "      <td>64.000000</td>\n",
       "      <td>0.04000</td>\n",
       "      <td>189.000000</td>\n",
       "      <td>6.655561</td>\n",
       "      <td>64.486000</td>\n",
       "      <td>1.933048</td>\n",
       "      <td>56.937760</td>\n",
       "      <td>4.100000</td>\n",
       "    </tr>\n",
       "    <tr>\n",
       "      <th>4</th>\n",
       "      <td>4</td>\n",
       "      <td>11.780000</td>\n",
       "      <td>7.898000</td>\n",
       "      <td>1.617000</td>\n",
       "      <td>99.000000</td>\n",
       "      <td>99.000000</td>\n",
       "      <td>94.000000</td>\n",
       "      <td>0.03000</td>\n",
       "      <td>18.000000</td>\n",
       "      <td>2.289492</td>\n",
       "      <td>78.458000</td>\n",
       "      <td>1.933048</td>\n",
       "      <td>104.612263</td>\n",
       "      <td>5.077778</td>\n",
       "    </tr>\n",
       "  </tbody>\n",
       "</table>\n",
       "</div>"
      ],
      "text/plain": [
       "   Unnamed: 0  Crude_birth_rate  Crude_death_rate  Fertility_rate   DPT_immu  \\\n",
       "0           0         17.995227          7.195875        2.335178  87.045374   \n",
       "1           1          9.828199          9.553920        1.551680  93.800214   \n",
       "2           2         18.174855          7.528826        2.414975  85.603028   \n",
       "3           3         32.487000          6.423000        4.473000  66.000000   \n",
       "4           4         11.780000          7.898000        1.617000  99.000000   \n",
       "\n",
       "   HepB3_immu  Measles_immu  HIV_incidence  TB_incidence  Homicides_per100000  \\\n",
       "0   86.436571     87.988729        0.61822    148.000000             6.405792   \n",
       "1   89.719856     93.554442        0.61822    102.948086             6.405792   \n",
       "2   84.737825     85.634452        0.23000    132.000000             5.779750   \n",
       "3   66.000000     64.000000        0.04000    189.000000             6.655561   \n",
       "4   99.000000     94.000000        0.03000     18.000000             2.289492   \n",
       "\n",
       "   Life_expectancy  Physicians_per1000_people  Population_density  \\\n",
       "0        71.854614                   1.933048           71.864149   \n",
       "1        80.659892                   1.933048           35.249830   \n",
       "2        72.563274                   1.933048           59.617881   \n",
       "3        64.486000                   1.933048           56.937760   \n",
       "4        78.458000                   1.933048          104.612263   \n",
       "\n",
       "   Overweight_prevalence  \n",
       "0               6.200000  \n",
       "1               5.077778  \n",
       "2               5.600000  \n",
       "3               4.100000  \n",
       "4               5.077778  "
      ]
     },
     "execution_count": 3,
     "metadata": {},
     "output_type": "execute_result"
    }
   ],
   "source": [
    "#check a few rows of data\n",
    "demographics_df.head(5)"
   ]
  },
  {
   "cell_type": "code",
   "execution_count": 4,
   "metadata": {},
   "outputs": [],
   "source": [
    "#drop the empty columns\n",
    "\n",
    "df = demographics_df.drop(['Unnamed: 0'], axis =1)\n"
   ]
  },
  {
   "cell_type": "markdown",
   "metadata": {},
   "source": [
    "Dataframe has been renamed to df from this point onwards."
   ]
  },
  {
   "cell_type": "code",
   "execution_count": 5,
   "metadata": {},
   "outputs": [],
   "source": [
    "#assign dependent and predictor variable columns\n",
    "#birth, fertility and TB\n",
    "X = df[['Crude_birth_rate', 'Fertility_rate','TB_incidence' ]]\n",
    "y = df[['Life_expectancy']]"
   ]
  },
  {
   "cell_type": "code",
   "execution_count": 6,
   "metadata": {},
   "outputs": [
    {
     "data": {
      "text/html": [
       "<div>\n",
       "<style scoped>\n",
       "    .dataframe tbody tr th:only-of-type {\n",
       "        vertical-align: middle;\n",
       "    }\n",
       "\n",
       "    .dataframe tbody tr th {\n",
       "        vertical-align: top;\n",
       "    }\n",
       "\n",
       "    .dataframe thead th {\n",
       "        text-align: right;\n",
       "    }\n",
       "</style>\n",
       "<table border=\"1\" class=\"dataframe\">\n",
       "  <thead>\n",
       "    <tr style=\"text-align: right;\">\n",
       "      <th></th>\n",
       "      <th>Crude_birth_rate</th>\n",
       "      <th>Fertility_rate</th>\n",
       "      <th>TB_incidence</th>\n",
       "    </tr>\n",
       "  </thead>\n",
       "  <tbody>\n",
       "    <tr>\n",
       "      <th>0</th>\n",
       "      <td>17.995227</td>\n",
       "      <td>2.335178</td>\n",
       "      <td>148.000000</td>\n",
       "    </tr>\n",
       "    <tr>\n",
       "      <th>1</th>\n",
       "      <td>9.828199</td>\n",
       "      <td>1.551680</td>\n",
       "      <td>102.948086</td>\n",
       "    </tr>\n",
       "    <tr>\n",
       "      <th>2</th>\n",
       "      <td>18.174855</td>\n",
       "      <td>2.414975</td>\n",
       "      <td>132.000000</td>\n",
       "    </tr>\n",
       "    <tr>\n",
       "      <th>3</th>\n",
       "      <td>32.487000</td>\n",
       "      <td>4.473000</td>\n",
       "      <td>189.000000</td>\n",
       "    </tr>\n",
       "    <tr>\n",
       "      <th>4</th>\n",
       "      <td>11.780000</td>\n",
       "      <td>1.617000</td>\n",
       "      <td>18.000000</td>\n",
       "    </tr>\n",
       "  </tbody>\n",
       "</table>\n",
       "</div>"
      ],
      "text/plain": [
       "   Crude_birth_rate  Fertility_rate  TB_incidence\n",
       "0         17.995227        2.335178    148.000000\n",
       "1          9.828199        1.551680    102.948086\n",
       "2         18.174855        2.414975    132.000000\n",
       "3         32.487000        4.473000    189.000000\n",
       "4         11.780000        1.617000     18.000000"
      ]
     },
     "execution_count": 6,
     "metadata": {},
     "output_type": "execute_result"
    }
   ],
   "source": [
    "#verify correct dataset is chosen\n",
    "X.head()"
   ]
  },
  {
   "cell_type": "code",
   "execution_count": 7,
   "metadata": {},
   "outputs": [
    {
     "data": {
      "text/html": [
       "<div>\n",
       "<style scoped>\n",
       "    .dataframe tbody tr th:only-of-type {\n",
       "        vertical-align: middle;\n",
       "    }\n",
       "\n",
       "    .dataframe tbody tr th {\n",
       "        vertical-align: top;\n",
       "    }\n",
       "\n",
       "    .dataframe thead th {\n",
       "        text-align: right;\n",
       "    }\n",
       "</style>\n",
       "<table border=\"1\" class=\"dataframe\">\n",
       "  <thead>\n",
       "    <tr style=\"text-align: right;\">\n",
       "      <th></th>\n",
       "      <th>Life_expectancy</th>\n",
       "    </tr>\n",
       "  </thead>\n",
       "  <tbody>\n",
       "    <tr>\n",
       "      <th>0</th>\n",
       "      <td>71.854614</td>\n",
       "    </tr>\n",
       "    <tr>\n",
       "      <th>1</th>\n",
       "      <td>80.659892</td>\n",
       "    </tr>\n",
       "    <tr>\n",
       "      <th>2</th>\n",
       "      <td>72.563274</td>\n",
       "    </tr>\n",
       "    <tr>\n",
       "      <th>3</th>\n",
       "      <td>64.486000</td>\n",
       "    </tr>\n",
       "    <tr>\n",
       "      <th>4</th>\n",
       "      <td>78.458000</td>\n",
       "    </tr>\n",
       "  </tbody>\n",
       "</table>\n",
       "</div>"
      ],
      "text/plain": [
       "   Life_expectancy\n",
       "0        71.854614\n",
       "1        80.659892\n",
       "2        72.563274\n",
       "3        64.486000\n",
       "4        78.458000"
      ]
     },
     "execution_count": 7,
     "metadata": {},
     "output_type": "execute_result"
    }
   ],
   "source": [
    "#verify correct dataset is chosen\n",
    "y.head()"
   ]
  },
  {
   "cell_type": "code",
   "execution_count": 8,
   "metadata": {},
   "outputs": [],
   "source": [
    "#splitting the dataset into training and test set\n",
    "from sklearn.model_selection import train_test_split\n",
    "X_train, X_test, y_train, y_test = train_test_split(X, y, test_size = 0.2, random_state = 42)"
   ]
  },
  {
   "cell_type": "code",
   "execution_count": 9,
   "metadata": {},
   "outputs": [
    {
     "data": {
      "text/plain": [
       "LinearRegression()"
      ]
     },
     "execution_count": 9,
     "metadata": {},
     "output_type": "execute_result"
    }
   ],
   "source": [
    "#fitting multiple linear regression to the training set\n",
    "from sklearn.linear_model import LinearRegression\n",
    "regressor = LinearRegression()\n",
    "regressor.fit(X_train, y_train)"
   ]
  },
  {
   "cell_type": "code",
   "execution_count": 10,
   "metadata": {},
   "outputs": [],
   "source": [
    "#predicting  the test set result\n",
    "y_pred = regressor.predict(X_test)"
   ]
  },
  {
   "cell_type": "code",
   "execution_count": 11,
   "metadata": {},
   "outputs": [
    {
     "data": {
      "text/plain": [
       "array([[76.23040033],\n",
       "       [67.47216702],\n",
       "       [62.77325052],\n",
       "       [56.74164851],\n",
       "       [76.63661312],\n",
       "       [73.74934981],\n",
       "       [79.28410033],\n",
       "       [60.70168174],\n",
       "       [78.44037465],\n",
       "       [73.25332148],\n",
       "       [78.18969683],\n",
       "       [73.88912031],\n",
       "       [67.80588696],\n",
       "       [76.42567739],\n",
       "       [64.69031149],\n",
       "       [65.34658355],\n",
       "       [79.68271127],\n",
       "       [72.65446665],\n",
       "       [64.16076833],\n",
       "       [66.77134277],\n",
       "       [67.2922021 ],\n",
       "       [76.63509176],\n",
       "       [80.07210776],\n",
       "       [73.99303232],\n",
       "       [75.44155813],\n",
       "       [59.84837061],\n",
       "       [79.16254587],\n",
       "       [77.22877555],\n",
       "       [76.5775713 ],\n",
       "       [65.98175248],\n",
       "       [76.51700768],\n",
       "       [78.51953194],\n",
       "       [73.61173871],\n",
       "       [77.10718438],\n",
       "       [74.95688649],\n",
       "       [78.29918841],\n",
       "       [75.99194187],\n",
       "       [73.25073186],\n",
       "       [79.22905597],\n",
       "       [70.51215289],\n",
       "       [77.81735511],\n",
       "       [75.74586824],\n",
       "       [78.41345485],\n",
       "       [70.98058019]])"
      ]
     },
     "execution_count": 11,
     "metadata": {},
     "output_type": "execute_result"
    }
   ],
   "source": [
    "#print predicted values\n",
    "y_pred"
   ]
  },
  {
   "cell_type": "code",
   "execution_count": 12,
   "metadata": {},
   "outputs": [],
   "source": [
    "#get r-squared values, a metric to show accuracy of the model\n",
    "from sklearn.metrics import r2_score\n",
    "score = r2_score(y_test, y_pred)"
   ]
  },
  {
   "cell_type": "code",
   "execution_count": 13,
   "metadata": {},
   "outputs": [
    {
     "name": "stdout",
     "output_type": "stream",
     "text": [
      "0.793985878530947\n"
     ]
    }
   ],
   "source": [
    "print(score)"
   ]
  },
  {
   "cell_type": "code",
   "execution_count": 15,
   "metadata": {},
   "outputs": [
    {
     "data": {
      "image/png": "[encoded data removed]",
      "text/plain": [
       "<Figure size 432x288 with 1 Axes>"
      ]
     },
     "metadata": {
      "needs_background": "light"
     },
     "output_type": "display_data"
    }
   ],
   "source": [
    "#check scatterplot of predicted and actual life expectancy variable\n",
    "plt.scatter(y_test, y_pred)\n",
    "plt.title(\"Predicted vs Actual Life Expectancy\")\n",
    "plt.xlabel(\"Actual values\")\n",
    "plt.ylabel(\"Predicted Values\")\n",
    "plt.show()"
   ]
  },
  {
   "cell_type": "code",
   "execution_count": 16,
   "metadata": {},
   "outputs": [
    {
     "name": "stdout",
     "output_type": "stream",
     "text": [
      "[[-0.33791858 -1.84046104 -0.0126906 ]]\n"
     ]
    }
   ],
   "source": [
    "#print correlation coefficient of each factor\n",
    "print(regressor.coef_)"
   ]
  },
  {
   "cell_type": "code",
   "execution_count": 17,
   "metadata": {},
   "outputs": [
    {
     "name": "stdout",
     "output_type": "stream",
     "text": [
      "[[73.09404456]]\n"
     ]
    }
   ],
   "source": [
    "#test the prediction works\n",
    "print(regressor.predict([[17.995227,2.335178,148.0000]]))"
   ]
  },
  {
   "cell_type": "code",
   "execution_count": 18,
   "metadata": {},
   "outputs": [
    {
     "name": "stdout",
     "output_type": "stream",
     "text": [
      "Mean Absolute Error: 2.4760972569165727\n",
      "Mean Squared Error: 9.457412047998908\n",
      "Root Mean Squared Error: 3.07529056318243\n"
     ]
    }
   ],
   "source": [
    "#print Root mean square value \n",
    "from sklearn import metrics\n",
    "print('Mean Absolute Error:', metrics.mean_absolute_error(y_test, y_pred))\n",
    "print('Mean Squared Error:', metrics.mean_squared_error(y_test, y_pred))\n",
    "print('Root Mean Squared Error:', np.sqrt(metrics.mean_squared_error(y_test, y_pred)))"
   ]
  },
  {
   "cell_type": "markdown",
   "metadata": {},
   "source": [
    "Since, RMSE value is quite close to zero, this model appears to be a quite good fit for the data."
   ]
  }
 ],
 "metadata": {
  "kernelspec": {
   "display_name": "Python [conda env:PythonAdv]",
   "language": "python",
   "name": "conda-env-PythonAdv-py"
  },
  "language_info": {
   "codemirror_mode": {
    "name": "ipython",
    "version": 3
   },
   "file_extension": ".py",
   "mimetype": "text/x-python",
   "name": "python",
   "nbconvert_exporter": "python",
   "pygments_lexer": "ipython3",
   "version": "3.6.10"
  }
 },
 "nbformat": 4,
 "nbformat_minor": 4
}
